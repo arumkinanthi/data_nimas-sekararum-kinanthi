{
 "cells": [
  {
   "cell_type": "markdown",
   "metadata": {},
   "source": [
    "### Import Library"
   ]
  },
  {
   "cell_type": "code",
   "execution_count": 1,
   "metadata": {},
   "outputs": [],
   "source": [
    "import pandas as pd\n",
    "import firebase_admin\n",
    "\n",
    "from firebase_admin import credentials\n",
    "from firebase_admin import storage"
   ]
  },
  {
   "cell_type": "markdown",
   "metadata": {},
   "source": [
    "### ETL"
   ]
  },
  {
   "cell_type": "code",
   "execution_count": 2,
   "metadata": {},
   "outputs": [],
   "source": [
    "def extract(filename):\n",
    "   df = pd.read_json(filename)\n",
    "   return df\n",
    "\n",
    "def transform(df):\n",
    "   # mengambil transaksi saham untuk GOOGL, AMZN, MSFT dan AAPL\n",
    "   select = ['GOOGL', 'AMZN', 'MSFT', 'AAPL']\n",
    "   filtered_df = df[df['stock_symbol'].isin(select)]\n",
    "   # mengambil data transaksi saham dengan harga transaksi (trade_price) diatas 500\n",
    "   filtered_df = df[(df[\"trade_price\"] > 500.0)]\n",
    "\n",
    "   return filtered_df\n",
    "\n",
    "def load(df):\n",
    "   df.to_parquet(\"filtered_stock_trades.parquet\")\n",
    "   \n",
    "   cred = credentials.Certificate(\"D:\\KINANTHI\\KULIAH\\MSIB\\ALTA\\Github\\data_nimas-sekararum-kinanthi\\\\18_Data Engineering in The Cloud\\Praktikum\\Prioritas\\\\account_key.json\")\n",
    "   firebase_admin.initialize_app(cred, {\"storageBucket\": \"alta-data-engineer-e1a4f.appspot.com\"})\n",
    "\n",
    "   bucket = storage.bucket()\n",
    "   blob = bucket.blob(\"uploaded_stock_trades.parquet\")\n",
    "   blob.upload_from_filename(\"filtered_stock_trades.parquet\")\n",
    "   print(\"Data has been uploaded!\")"
   ]
  },
  {
   "cell_type": "code",
   "execution_count": 3,
   "metadata": {},
   "outputs": [
    {
     "name": "stdout",
     "output_type": "stream",
     "text": [
      "Data has been uploaded!\n"
     ]
    }
   ],
   "source": [
    "df = extract(\"stock_trades.json\")\n",
    "transformed_df = transform(df)\n",
    "load(transformed_df)"
   ]
  }
 ],
 "metadata": {
  "kernelspec": {
   "display_name": "Python 3",
   "language": "python",
   "name": "python3"
  },
  "language_info": {
   "codemirror_mode": {
    "name": "ipython",
    "version": 3
   },
   "file_extension": ".py",
   "mimetype": "text/x-python",
   "name": "python",
   "nbconvert_exporter": "python",
   "pygments_lexer": "ipython3",
   "version": "3.11.4"
  }
 },
 "nbformat": 4,
 "nbformat_minor": 2
}
