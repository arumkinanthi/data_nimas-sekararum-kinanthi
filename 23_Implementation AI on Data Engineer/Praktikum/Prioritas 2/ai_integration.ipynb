{
 "cells": [
  {
   "cell_type": "markdown",
   "metadata": {},
   "source": [
    "## Import Library"
   ]
  },
  {
   "cell_type": "code",
   "execution_count": 10,
   "metadata": {},
   "outputs": [],
   "source": [
    "from dotenv import dotenv_values\n",
    "from openai import OpenAI\n",
    "import pandas as pd\n",
    "from pymysql import connect"
   ]
  },
  {
   "cell_type": "markdown",
   "metadata": {},
   "source": [
    "## Ingest Data from Database"
   ]
  },
  {
   "cell_type": "code",
   "execution_count": 11,
   "metadata": {},
   "outputs": [
    {
     "data": {
      "text/html": [
       "<div>\n",
       "<style scoped>\n",
       "    .dataframe tbody tr th:only-of-type {\n",
       "        vertical-align: middle;\n",
       "    }\n",
       "\n",
       "    .dataframe tbody tr th {\n",
       "        vertical-align: top;\n",
       "    }\n",
       "\n",
       "    .dataframe thead th {\n",
       "        text-align: right;\n",
       "    }\n",
       "</style>\n",
       "<table border=\"1\" class=\"dataframe\">\n",
       "  <thead>\n",
       "    <tr style=\"text-align: right;\">\n",
       "      <th></th>\n",
       "      <th>transaction_id</th>\n",
       "      <th>transaction_date</th>\n",
       "      <th>sales_amount</th>\n",
       "      <th>price</th>\n",
       "      <th>product_category</th>\n",
       "    </tr>\n",
       "  </thead>\n",
       "  <tbody>\n",
       "    <tr>\n",
       "      <th>0</th>\n",
       "      <td>1</td>\n",
       "      <td>2024-06-01</td>\n",
       "      <td>100.00</td>\n",
       "      <td>10.00</td>\n",
       "      <td>Electronics</td>\n",
       "    </tr>\n",
       "    <tr>\n",
       "      <th>1</th>\n",
       "      <td>2</td>\n",
       "      <td>2024-06-02</td>\n",
       "      <td>200.00</td>\n",
       "      <td>20.00</td>\n",
       "      <td>Groceries</td>\n",
       "    </tr>\n",
       "    <tr>\n",
       "      <th>2</th>\n",
       "      <td>3</td>\n",
       "      <td>2024-06-03</td>\n",
       "      <td>150.00</td>\n",
       "      <td>15.00</td>\n",
       "      <td>Clothing</td>\n",
       "    </tr>\n",
       "    <tr>\n",
       "      <th>3</th>\n",
       "      <td>4</td>\n",
       "      <td>2024-06-04</td>\n",
       "      <td>300.00</td>\n",
       "      <td>30.00</td>\n",
       "      <td>Home Appliances</td>\n",
       "    </tr>\n",
       "    <tr>\n",
       "      <th>4</th>\n",
       "      <td>5</td>\n",
       "      <td>2024-06-05</td>\n",
       "      <td>250.00</td>\n",
       "      <td>25.00</td>\n",
       "      <td>Toys</td>\n",
       "    </tr>\n",
       "    <tr>\n",
       "      <th>5</th>\n",
       "      <td>6</td>\n",
       "      <td>2024-06-06</td>\n",
       "      <td>400.00</td>\n",
       "      <td>40.00</td>\n",
       "      <td>Books</td>\n",
       "    </tr>\n",
       "    <tr>\n",
       "      <th>6</th>\n",
       "      <td>7</td>\n",
       "      <td>2024-06-07</td>\n",
       "      <td>350.00</td>\n",
       "      <td>35.00</td>\n",
       "      <td>Electronics</td>\n",
       "    </tr>\n",
       "    <tr>\n",
       "      <th>7</th>\n",
       "      <td>8</td>\n",
       "      <td>2024-06-08</td>\n",
       "      <td>450.00</td>\n",
       "      <td>45.00</td>\n",
       "      <td>Groceries</td>\n",
       "    </tr>\n",
       "    <tr>\n",
       "      <th>8</th>\n",
       "      <td>9</td>\n",
       "      <td>2024-06-09</td>\n",
       "      <td>500.00</td>\n",
       "      <td>50.00</td>\n",
       "      <td>Clothing</td>\n",
       "    </tr>\n",
       "    <tr>\n",
       "      <th>9</th>\n",
       "      <td>10</td>\n",
       "      <td>2024-06-10</td>\n",
       "      <td>600.00</td>\n",
       "      <td>60.00</td>\n",
       "      <td>Home Appliances</td>\n",
       "    </tr>\n",
       "  </tbody>\n",
       "</table>\n",
       "</div>"
      ],
      "text/plain": [
       "   transaction_id transaction_date sales_amount  price product_category\n",
       "0               1       2024-06-01       100.00  10.00      Electronics\n",
       "1               2       2024-06-02       200.00  20.00        Groceries\n",
       "2               3       2024-06-03       150.00  15.00         Clothing\n",
       "3               4       2024-06-04       300.00  30.00  Home Appliances\n",
       "4               5       2024-06-05       250.00  25.00             Toys\n",
       "5               6       2024-06-06       400.00  40.00            Books\n",
       "6               7       2024-06-07       350.00  35.00      Electronics\n",
       "7               8       2024-06-08       450.00  45.00        Groceries\n",
       "8               9       2024-06-09       500.00  50.00         Clothing\n",
       "9              10       2024-06-10       600.00  60.00  Home Appliances"
      ]
     },
     "execution_count": 11,
     "metadata": {},
     "output_type": "execute_result"
    }
   ],
   "source": [
    "env_values = dotenv_values('.env')\n",
    "\n",
    "connection = connect(host=env_values['DB_HOST'],\n",
    "                     db=env_values['DB_DATABASE'],\n",
    "                     user=env_values['DB_USERNAME'],\n",
    "                     password=env_values['DB_PASSWORD'], # type: ignore\n",
    "                     ) # type: ignore\n",
    "cursor = connection.cursor()\n",
    "cursor.execute(\"SELECT * FROM sales\")\n",
    "result = cursor.fetchall()\n",
    "\n",
    "df_sales = pd.DataFrame(result, columns = [\"transaction_id\", \"transaction_date\", \"sales_amount\", \"price\", \"product_category\"])\n",
    "df_sales"
   ]
  },
  {
   "cell_type": "markdown",
   "metadata": {},
   "source": [
    "## AI Integration"
   ]
  },
  {
   "cell_type": "code",
   "execution_count": 12,
   "metadata": {},
   "outputs": [],
   "source": [
    "client = OpenAI(\n",
    "   api_key = env_values['OPENAI_API_KEY'],\n",
    "   base_url = \"https://api.naga.ac/v1\"\n",
    ")\n",
    "\n",
    "def generate_analysis(prompt, model=\"gpt-3.5-turbo\", temp=0, max_tokens=150):\n",
    "   response = client.chat.completions.create(\n",
    "      model=model,\n",
    "      temperature=temp,\n",
    "      max_tokens=max_tokens,\n",
    "      messages=[\n",
    "         {\n",
    "            \"role\": \"user\",\n",
    "            \"content\": prompt\n",
    "         }\n",
    "      ]\n",
    "   )\n",
    "   \n",
    "   return response.choices[0].message.content"
   ]
  },
  {
   "cell_type": "markdown",
   "metadata": {},
   "source": [
    "## Generate Prompt"
   ]
  },
  {
   "cell_type": "code",
   "execution_count": 13,
   "metadata": {},
   "outputs": [],
   "source": [
    "prompt = f\"Buatkan SQL query mengambil data dari tabel sales berdasarkan dataset {df_sales} untuk: 1. Menghitung total penjualan per kategori produk. 2. Menghitung rata-rata harga per kategori produk. 3. Menghitung total penjualan per hari. 4. Menghitung jumlah transaksi per kategori produk.\"\n",
    "results = generate_analysis(prompt=prompt)\n",
    "\n",
    "# df = pd.DataFrame({\"questions\":[prompt], \"answers\":[results]})\n",
    "# df.to_csv(\"answers.csv\", mode=\"a\", header=True)"
   ]
  },
  {
   "cell_type": "code",
   "execution_count": 14,
   "metadata": {},
   "outputs": [
    {
     "name": "stdout",
     "output_type": "stream",
     "text": [
      "Berikut adalah SQL query untuk melakukan operasi yang diminta:\n",
      "\n",
      "1. Menghitung total penjualan per kategori produk:\n",
      "```sql\n",
      "SELECT product_category, SUM(sales_amount) AS total_penjualan\n",
      "FROM sales\n",
      "GROUP BY product_category;\n",
      "```\n",
      "\n",
      "2. Menghitung rata-rata harga per kategori produk:\n",
      "```sql\n",
      "SELECT product_category, AVG(price) AS rata_rata_harga\n",
      "FROM sales\n",
      "GROUP BY product_category;\n",
      "```\n",
      "\n",
      "3. Menghitung total penjualan per hari:\n",
      "```sql\n",
      "SELECT transaction_date, SUM(sales_amount) AS total_penjualan\n",
      "FROM sales\n",
      "GROUP BY transaction_date;\n",
      "```\n",
      "\n",
      "4. Menghitung jumlah transaksi per kategori produk:\n",
      "```sql\n",
      "SELECT product_category, COUNT(transaction_id) AS jumlah_transaksi\n",
      "FROM sales\n",
      "GROUP BY product_category;\n",
      "```\n",
      "\n",
      "Anda dapat menjalankan query-query di atas pada database Anda untuk mendapatkan hasil yang diinginkan.\n"
     ]
    }
   ],
   "source": [
    "print(results)"
   ]
  },
  {
   "cell_type": "markdown",
   "metadata": {},
   "source": [
    "Berdasarkan hasil implementasi query dari Naga AI yang telah divalidasi pada sistem manajemen database yang ada dalam folder screenshot, dapat diketahui bahwa keempat output SQL queries di atas dapat berjalan dengan benar dan menghasilkan output seperti yang diharapkan. Terdapat \"AS\" di dalam query yang dihasilkan yang menunjukkan bahwa AI dapat bekerja secara efektif dengan menambahkan alias untuk sebuah nama kolom yang isinya hasil dari operasi pada kolom lainnya. Dengan hasil seperti ini, AI dapat menjadi pendukung bagi data engineer untuk mnenghasilkan query yang lebih efektif."
   ]
  }
 ],
 "metadata": {
  "kernelspec": {
   "display_name": "Python 3",
   "language": "python",
   "name": "python3"
  },
  "language_info": {
   "codemirror_mode": {
    "name": "ipython",
    "version": 3
   },
   "file_extension": ".py",
   "mimetype": "text/x-python",
   "name": "python",
   "nbconvert_exporter": "python",
   "pygments_lexer": "ipython3",
   "version": "3.11.4"
  }
 },
 "nbformat": 4,
 "nbformat_minor": 2
}
