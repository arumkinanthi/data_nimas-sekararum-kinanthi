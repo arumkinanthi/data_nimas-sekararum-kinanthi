{
 "cells": [
  {
   "cell_type": "code",
   "execution_count": 6,
   "metadata": {},
   "outputs": [
    {
     "name": "stdout",
     "output_type": "stream",
     "text": [
      "File Uploaded to Bucket!\n"
     ]
    }
   ],
   "source": [
    "import json\n",
    "import google.cloud.storage\n",
    "from datetime import datetime\n",
    "\n",
    "import google.oauth2\n",
    "import google.oauth2.service_account\n",
    "\n",
    "with open(\"canvas-joy-418901-9cfe71d3eead.json\") as f:\n",
    "   service_account_info = json.load(f)\n",
    "   \n",
    "credentials = google.oauth2.service_account.Credentials.from_service_account_info(service_account_info)\n",
    "storage_client = google.cloud.storage.Client(credentials=credentials)\n",
    "\n",
    "bucket = storage_client.get_bucket(\"sentiment_chatgpt_storage-code-competence-1\")\n",
    "datetime_now = datetime.now().strftime(\"%d%m%Y-%H-%M-%S\")\n",
    "\n",
    "blob = bucket.blob(f\"data-{datetime_now}/sentiments_good.csv\")\n",
    "blob.upload_from_filename(\"data_dest/sentiment_good.csv\")\n",
    "\n",
    "blob = bucket.blob(f\"data-{datetime_now}/sentiments_bad.csv\")\n",
    "blob.upload_from_filename(\"data_dest/sentiment_bad.csv\")\n",
    "\n",
    "blob = bucket.blob(f\"data-{datetime_now}/sentiments_neutral.csv\")\n",
    "blob.upload_from_filename(\"data_dest/sentiment_neutral.csv\")\n",
    "\n",
    "blob = bucket.blob(f\"data-{datetime_now}/sentiments_counts.csv\")\n",
    "blob.upload_from_filename(\"data_dest/sentiment_counts.csv\")\n",
    "\n",
    "blob = bucket.blob(f\"data-{datetime_now}/sentiment_classifier_sentiments.sql\")\n",
    "blob.upload_from_filename(\"sentiment_classifier_sentiments.sql\")\n",
    "\n",
    "blob = bucket.blob(f\"data-{datetime_now}/sentiment_classifier_tweets.sql\")\n",
    "blob.upload_from_filename(\"sentiment_classifier_tweets.sql\")\n",
    "\n",
    "print(\"File Uploaded to Bucket!\")"
   ]
  }
 ],
 "metadata": {
  "kernelspec": {
   "display_name": "venv_code",
   "language": "python",
   "name": "python3"
  },
  "language_info": {
   "codemirror_mode": {
    "name": "ipython",
    "version": 3
   },
   "file_extension": ".py",
   "mimetype": "text/x-python",
   "name": "python",
   "nbconvert_exporter": "python",
   "pygments_lexer": "ipython3",
   "version": "3.10.11"
  }
 },
 "nbformat": 4,
 "nbformat_minor": 2
}
