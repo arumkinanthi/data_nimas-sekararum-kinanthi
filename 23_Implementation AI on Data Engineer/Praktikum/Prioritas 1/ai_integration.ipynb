{
 "cells": [
  {
   "cell_type": "markdown",
   "metadata": {},
   "source": [
    "## Import Library"
   ]
  },
  {
   "cell_type": "code",
   "execution_count": 32,
   "metadata": {},
   "outputs": [],
   "source": [
    "from dotenv import dotenv_values\n",
    "from openai import OpenAI\n",
    "import pandas as pd"
   ]
  },
  {
   "cell_type": "code",
   "execution_count": 33,
   "metadata": {},
   "outputs": [],
   "source": [
    "env_vars = dotenv_values('.env')\n",
    "\n",
    "client = OpenAI(\n",
    "   api_key = env_vars['OPENAI_API_KEY'],\n",
    "   base_url = \"https://api.naga.ac/v1\"\n",
    ")\n",
    "\n",
    "dataset_df = pd.read_csv(\"ecommerce.csv\")\n",
    "\n",
    "def generate_analysis(prompt, model=\"gpt-3.5-turbo\", temp=0, max_tokens=150):\n",
    "   response = client.chat.completions.create(\n",
    "      model=model,\n",
    "      temperature=temp,\n",
    "      max_tokens=max_tokens,\n",
    "      messages=[\n",
    "         {\n",
    "            \"role\": \"user\",\n",
    "            \"content\": prompt\n",
    "         }\n",
    "      ]\n",
    "   )\n",
    "   \n",
    "   return response.choices[0].message.content"
   ]
  },
  {
   "cell_type": "code",
   "execution_count": 34,
   "metadata": {},
   "outputs": [],
   "source": [
    "prompt = f\"Analisislah prediksi penjualan berdasarkan dataset {dataset_df} di masa depan, dan berikan kesimpulannya secara lengkap!\"\n",
    "results = generate_analysis(prompt=prompt)\n",
    "\n",
    "df = pd.DataFrame({\"questions\":[prompt], \"answers\":[results]})\n",
    "df.to_csv(\"answers.csv\", mode=\"a\", header=True)"
   ]
  },
  {
   "cell_type": "code",
   "execution_count": 35,
   "metadata": {},
   "outputs": [
    {
     "name": "stdout",
     "output_type": "stream",
     "text": [
      "Berdasarkan dataset penjualan yang diberikan, terdapat informasi mengenai transaksi yang dilakukan oleh berbagai pelanggan pada tanggal-tanggal tertentu. Setiap transaksi memiliki informasi seperti ID transaksi, tanggal transaksi, nama pelanggan, jumlah transaksi, kategori barang, nama barang, metode pembayaran, dan status transaksi.\n",
      "\n",
      "Untuk menganalisis prediksi penjualan di masa depan berdasarkan dataset ini, Anda dapat melakukan beberapa langkah, antara lain:\n",
      "1. Analisis tren penjualan berdasarkan kategori barang: Anda dapat melihat kategori barang mana yang paling banyak terjual dan mengidentifikasi tren penjualan dari waktu ke waktu.\n",
      "2. Analisis metode pembayaran: Anda dapat melihat preferensi pelanggan dalam menggunakan metode pembayaran tertentu dan mengidentifikasi apakah metode pembayaran tertentu berpengaruh pada jumlah penjualan.\n",
      "3. Analisis pelanggan: Anda dapat melihat pola pembelian dari pelanggan tertentu dan mengidentifikasi pelanggan yang berpotensi menjadi pelanggan setia.\n",
      "4. Prediksi penjualan di masa depan: Dengan menggunakan data historis yang ada, Anda dapat menggunakan metode analisis prediksi seperti regresi linier atau time series untuk memprediksi penjualan di masa depan berdasarkan tren yang teridentifikasi.\n",
      "\n",
      "Kesimpulannya, dengan menganalisis dataset penjualan tersebut secara lebih mendalam, Anda dapat memahami pola penjualan yang ada, mengidentifikasi faktor-faktor yang memengaruhi penjualan, dan membuat prediksi penjualan di masa depan untuk membantu dalam perencanaan bisnis dan strategi pemasaran.\n"
     ]
    }
   ],
   "source": [
    "print(results)"
   ]
  },
  {
   "cell_type": "code",
   "execution_count": null,
   "metadata": {},
   "outputs": [],
   "source": []
  }
 ],
 "metadata": {
  "kernelspec": {
   "display_name": "Python 3",
   "language": "python",
   "name": "python3"
  },
  "language_info": {
   "codemirror_mode": {
    "name": "ipython",
    "version": 3
   },
   "file_extension": ".py",
   "mimetype": "text/x-python",
   "name": "python",
   "nbconvert_exporter": "python",
   "pygments_lexer": "ipython3",
   "version": "3.11.4"
  }
 },
 "nbformat": 4,
 "nbformat_minor": 2
}
