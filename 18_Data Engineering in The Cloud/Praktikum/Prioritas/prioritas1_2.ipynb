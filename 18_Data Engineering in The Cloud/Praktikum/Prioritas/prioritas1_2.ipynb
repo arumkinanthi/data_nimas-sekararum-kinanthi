{
 "cells": [
  {
   "cell_type": "markdown",
   "metadata": {},
   "source": [
    "### Import Library"
   ]
  },
  {
   "cell_type": "code",
   "execution_count": 1,
   "metadata": {},
   "outputs": [],
   "source": [
    "import pandas as pd\n",
    "import firebase_admin\n",
    "\n",
    "from firebase_admin import credentials\n",
    "from firebase_admin import storage"
   ]
  },
  {
   "cell_type": "markdown",
   "metadata": {},
   "source": [
    "### ETL"
   ]
  },
  {
   "cell_type": "code",
   "execution_count": 2,
   "metadata": {},
   "outputs": [],
   "source": [
    "def extract(filename):\n",
    "   df = pd.read_json(filename)\n",
    "   return df\n",
    "\n",
    "def transform(df):\n",
    "   # mengambil data transaksi yang menggunakan metode pembayaran kartu kredit (credit card) dan status nya success\n",
    "   filtered_df = df[(df[\"payment_method\"] == \"credit card\") & (df[\"status\"] == \"success\")]\n",
    "\n",
    "   return filtered_df\n",
    "\n",
    "def load(df):\n",
    "   df.to_csv(\"filtered_ecommerce.csv\")\n",
    "   \n",
    "   cred = credentials.Certificate(\"D:\\KINANTHI\\KULIAH\\MSIB\\ALTA\\Github\\data_nimas-sekararum-kinanthi\\\\18_Data Engineering in The Cloud\\Praktikum\\Prioritas\\\\account_key.json\")\n",
    "   firebase_admin.initialize_app(cred, {\"storageBucket\": \"alta-data-engineer-e1a4f.appspot.com\"})\n",
    "\n",
    "   bucket = storage.bucket()\n",
    "   blob = bucket.blob(blob_name=\"uploaded_ecommerce.csv\")\n",
    "   blob.upload_from_filename(filename=\"filtered_ecommerce.csv\")\n",
    "   print(\"Data has been uploaded!\")"
   ]
  },
  {
   "cell_type": "code",
   "execution_count": 3,
   "metadata": {},
   "outputs": [
    {
     "name": "stdout",
     "output_type": "stream",
     "text": [
      "Data has been uploaded!\n"
     ]
    }
   ],
   "source": [
    "df = extract(\"ecommerce.json\")\n",
    "transformed_df = transform(df)\n",
    "load(transformed_df)"
   ]
  }
 ],
 "metadata": {
  "kernelspec": {
   "display_name": "Python 3",
   "language": "python",
   "name": "python3"
  },
  "language_info": {
   "codemirror_mode": {
    "name": "ipython",
    "version": 3
   },
   "file_extension": ".py",
   "mimetype": "text/x-python",
   "name": "python",
   "nbconvert_exporter": "python",
   "pygments_lexer": "ipython3",
   "version": "3.11.4"
  }
 },
 "nbformat": 4,
 "nbformat_minor": 2
}
