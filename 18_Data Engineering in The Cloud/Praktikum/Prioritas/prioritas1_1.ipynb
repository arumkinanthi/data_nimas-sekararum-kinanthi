{
 "cells": [
  {
   "cell_type": "markdown",
   "metadata": {},
   "source": [
    "### Import Library"
   ]
  },
  {
   "cell_type": "code",
   "execution_count": 1,
   "metadata": {},
   "outputs": [],
   "source": [
    "import pandas as pd\n",
    "import firebase_admin\n",
    "\n",
    "from firebase_admin import credentials\n",
    "from firebase_admin import storage"
   ]
  },
  {
   "cell_type": "markdown",
   "metadata": {},
   "source": [
    "### ETL"
   ]
  },
  {
   "cell_type": "code",
   "execution_count": 2,
   "metadata": {},
   "outputs": [],
   "source": [
    "def extract(filename):\n",
    "   df = pd.read_csv(filename)\n",
    "   return df\n",
    "\n",
    "def transform(df):\n",
    "   # menghapus data duplikat\n",
    "   df = df.drop_duplicates()\n",
    "   # hanya mengambil data yang lengkap\n",
    "   df = df[df[\"name\"] != '-']\n",
    "   df = df[df[\"age\"] != '-']\n",
    "   df = df[df[\"favorite_front_end\"] != '-']\n",
    "   df = df[df[\"favorite_back_end\"] != '-']\n",
    "   df = df[df[\"salary_per_year_in_USD\"] != '-']\n",
    "   df = df[df[\"company_type\"] != '-']\n",
    "   # reset index\n",
    "   df = df.reset_index(drop=True)\n",
    "\n",
    "   return df\n",
    "\n",
    "def load(df):\n",
    "   df.to_csv(\"cleaned_survey.csv\")\n",
    "   \n",
    "   cred = credentials.Certificate(\"D:\\KINANTHI\\KULIAH\\MSIB\\ALTA\\Github\\data_nimas-sekararum-kinanthi\\\\18_Data Engineering in The Cloud\\Praktikum\\Prioritas\\\\account_key.json\")\n",
    "   firebase_admin.initialize_app(cred, {\"storageBucket\": \"alta-data-engineer-e1a4f.appspot.com\"})\n",
    "\n",
    "   bucket = storage.bucket()\n",
    "   \n",
    "   blob = bucket.blob(blob_name=\"uploaded_survey.csv\")\n",
    "   blob.upload_from_filename(filename=\"cleaned_survey.csv\")\n",
    "   print(\"Data has been uploaded!\")"
   ]
  },
  {
   "cell_type": "code",
   "execution_count": 3,
   "metadata": {},
   "outputs": [
    {
     "name": "stdout",
     "output_type": "stream",
     "text": [
      "Data has been uploaded!\n"
     ]
    }
   ],
   "source": [
    "df = extract(\"survey.csv\")\n",
    "transformed_df = transform(df)\n",
    "load(transformed_df)"
   ]
  }
 ],
 "metadata": {
  "kernelspec": {
   "display_name": "Python 3",
   "language": "python",
   "name": "python3"
  },
  "language_info": {
   "codemirror_mode": {
    "name": "ipython",
    "version": 3
   },
   "file_extension": ".py",
   "mimetype": "text/x-python",
   "name": "python",
   "nbconvert_exporter": "python",
   "pygments_lexer": "ipython3",
   "version": "3.11.4"
  }
 },
 "nbformat": 4,
 "nbformat_minor": 2
}
