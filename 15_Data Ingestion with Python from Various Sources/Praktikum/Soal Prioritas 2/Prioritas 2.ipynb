{
 "cells": [
  {
   "cell_type": "code",
   "execution_count": 95,
   "metadata": {},
   "outputs": [],
   "source": [
    "import requests\n",
    "from bs4 import BeautifulSoup\n",
    "from selenium import webdriver\n",
    "from selenium.webdriver.edge.service import Service\n",
    "import csv"
   ]
  },
  {
   "cell_type": "code",
   "execution_count": 105,
   "metadata": {},
   "outputs": [],
   "source": [
    "urls=[]\n",
    "# custom banyak page buat di scraping\n",
    "# kalo mau banyak, koneksi internet harus lancar\n",
    "banyakpage=3\n",
    "for i in range(1,banyakpage+1):\n",
    "    urls.append(\"https://www.sociolla.com/lip-tint/60470-peach-makes-perfect-lip-tint?page=\"+str(i))"
   ]
  },
  {
   "cell_type": "code",
   "execution_count": 33,
   "metadata": {},
   "outputs": [],
   "source": [
    "webdriver_path = \"msedgedriver.exe\"\n",
    "service = Service(webdriver_path)\n",
    "driver = webdriver.Edge(service=service)\n",
    "lista=[]\n",
    "listp=[]\n",
    "for url in urls:\n",
    "    driver.get(url)\n",
    "    driver.implicitly_wait(30)\n",
    "    html_content = driver.page_source\n",
    "    soup = BeautifulSoup(html_content, 'html.parser')\n",
    "    alist,plist=[],[]\n",
    "    p_tags = soup.find_all('p')\n",
    "    a_tags = soup.find_all('a')\n",
    "    for p in p_tags:\n",
    "        plist.append(p)\n",
    "    for a in a_tags:\n",
    "        alist.append(a)\n",
    "    lista.append(alist)\n",
    "    listp.append(plist)\n",
    "driver.quit()"
   ]
  },
  {
   "cell_type": "code",
   "execution_count": 90,
   "metadata": {},
   "outputs": [],
   "source": [
    "nama = []\n",
    "for i in range(len(lista)):\n",
    "    inlist=[]\n",
    "    for j in range(len(lista[i])):\n",
    "        if \"https://www.soco.id/\" in str(lista[i][j]):\n",
    "            if \"_blank\" in str(lista[i][j]):\n",
    "                if not(\"img\" in str(lista[i][j])):\n",
    "                    inlist.append(lista[i][j].text)\n",
    "    nama.append(inlist)\n"
   ]
  },
  {
   "cell_type": "code",
   "execution_count": 91,
   "metadata": {},
   "outputs": [
    {
     "data": {
      "text/plain": [
       "[[' eline christina ',\n",
       "  ' Dhia Kamila ',\n",
       "  ' Tika Suryana ',\n",
       "  ' Siti Khairunnisa ',\n",
       "  ' Christy c ',\n",
       "  ' Taya Dee '],\n",
       " [' Intan Refonia ',\n",
       "  ' Wanda Aprilia ',\n",
       "  ' Eva Karismayang ',\n",
       "  ' Handria Puji ',\n",
       "  ' Wenona Key ',\n",
       "  ' Vania b '],\n",
       " [' Intan Refonia ',\n",
       "  ' Wanda Aprilia ',\n",
       "  ' Eva Karismayang ',\n",
       "  ' Handria Puji ',\n",
       "  ' Wenona Key ',\n",
       "  ' Vania b ']]"
      ]
     },
     "execution_count": 91,
     "metadata": {},
     "output_type": "execute_result"
    }
   ],
   "source": [
    "nama"
   ]
  },
  {
   "cell_type": "code",
   "execution_count": 93,
   "metadata": {},
   "outputs": [],
   "source": [
    "filteredlistpreveiew = []\n",
    "filteredlistprating = []\n",
    "filteredlistpwaktu=[]\n",
    "for i in range(len(listp)):\n",
    "    inlist=[]\n",
    "    inlist2=[]\n",
    "    inlist3=[]\n",
    "    for j in range(len(listp[i])):\n",
    "        if \"line--clamp\" in str(listp[i][j]):\n",
    "            inlist.append(listp[i][j].text)\n",
    "    for j in range(len(listp[i])):\n",
    "        if \"rate-value\" in str(listp[i][j]):\n",
    "            inlist2.append(listp[i][j].text)\n",
    "    for j in range(len(listp[i])):\n",
    "        if \"publish-time\" in str(listp[i][j]):\n",
    "            inlist3.append(listp[i][j].text)\n",
    "    filteredlistpreveiew.append(inlist)\n",
    "    filteredlistprating.append(inlist2)\n",
    "    filteredlistpwaktu.append(inlist3)"
   ]
  },
  {
   "cell_type": "code",
   "execution_count": 94,
   "metadata": {},
   "outputs": [
    {
     "data": {
      "text/plain": [
       "[[' 2mo ', ' 2d ', ' 6d ', ' 4mo ', ' 5mo ', ' 5mo '],\n",
       " [' 2y ', ' 2y ', ' 2y ', ' 2y ', ' 2y ', ' 2y '],\n",
       " [' 2y ', ' 2y ', ' 2y ', ' 2y ', ' 2y ', ' 2y ']]"
      ]
     },
     "execution_count": 94,
     "metadata": {},
     "output_type": "execute_result"
    }
   ],
   "source": [
    "filteredlistpwaktu"
   ]
  },
  {
   "cell_type": "code",
   "execution_count": 85,
   "metadata": {},
   "outputs": [
    {
     "data": {
      "text/plain": [
       "[[' finish tintnya lumayan glossy dan memberi kesan lembab tapi setelah berapa lama agak kering di bibir aku. stainnya juga lumayan, setelah dipake makan masih ada pigmentnya. ',\n",
       "  ' sukaaa bangettt sampe punya 3 warna. teksturnya creamy ringan ga lengket dibibir, efek glossynya natural ga berlebihan, dan stainnya oke bngtt untuk sebuah glossy tint. packaging juga lucu dan harganya affordable. untuk yg bibirnya agak gelap aku saranin pake concealer dlu dipinggir bibirnya.  ',\n",
       "  ' Produk-produk korea tuh memang juara ya.. suka banget sama barenbliss ini.. bibir keliatan sehat dan gak kering.. suka sekali bakal beli warna lain nya ',\n",
       "  ' di aku warnanya terlalu gelap. tapi pas diaplikasiin enak, pigmented dan glossy di bibir. sebelum pake sebaiknya pake lipbalm dulu karena kalau kering jadi ga bagus ',\n",
       "  ' jujur ya,bnb ini bagus cuma ga terlalu tahan lama padahal suka banget sama tesksturnya yg ringan dan enak buat bibir yang kering cuma pake 20menit aja rasanya udah ilang hehe ',\n",
       "  ' lipting ini pigmented sangat pigmented dan creamy banget, warnanya berry keunguan agak tua tapi warnanya masih nyala bgt tidak kusam dan bisa digabubg dengan warna lain untuj ombre '],\n",
       " [' Liptint ini pigmentasinya bagus. Warnanya sesuai untuk skin tone medium. Fading nya juga gak ngumpul di tengah, sama sekali gak bikin bibir kering. Packagingnya sangat juara. Sayangnya aku kurang suka wanginya. Menurutku agak menganggu sekali, sampai ke hidung (preferensi pribadi) dan ketahanan warnanya/stainnya kurang. Kena air langsung hilang. ',\n",
       "  ' Pertama emg lagi nyari liptint, ternyata barenbliss punya liptint juga, eh pas cek tinggal 2 warna, sempet bingung beli ga ya, akhirnya memutuskan untuk coba pake warna never seattle, EH BAGUS BGT DONG LUCU WARNANYA MANA DAPET PAS HARGA DISKON  ',\n",
       "  ' Syukaak banget😍😍sm tekturnya yg lembut dan tampilannya yg glosi cocok buat bibir aku yg kering jadi nyaman dipake sepanjang hari aromanya cherry😘😘 ',\n",
       "  ' Jatuh cinta banget sama liptin nya bnb. Ringan di bibir ga berasa tebel gitu.... Warna nya juga suka bangettt bangettt bikin cerah banget ke bibir. Sukaaaaaaaaa ',\n",
       "  ' ini liptint baru yang jadi favorite aku dri bulan september, nice... texturenya pas banget buat di apply, smooth milky gt, dan gak bikin bibir pecah2, packaging juga ok banget, pokoknya nyaman banget buat di pake ama dibawa sehari-hari :) seneng deh udah muncul di sociolla, bisa sharing review product favku... TOP fav warna aku 04, 01 ya haha ',\n",
       "  ' pas di pake light banget udah gitu pigmented juga after apply nya langsung glossy jadi gausah pake lip gloss lagi aja udah bagus banget, wanginya mirip yupi 😣❤️❤️ '],\n",
       " [' Liptint ini pigmentasinya bagus. Warnanya sesuai untuk skin tone medium. Fading nya juga gak ngumpul di tengah, sama sekali gak bikin bibir kering. Packagingnya sangat juara. Sayangnya aku kurang suka wanginya. Menurutku agak menganggu sekali, sampai ke hidung (preferensi pribadi) dan ketahanan warnanya/stainnya kurang. Kena air langsung hilang. ',\n",
       "  ' Pertama emg lagi nyari liptint, ternyata barenbliss punya liptint juga, eh pas cek tinggal 2 warna, sempet bingung beli ga ya, akhirnya memutuskan untuk coba pake warna never seattle, EH BAGUS BGT DONG LUCU WARNANYA MANA DAPET PAS HARGA DISKON  ',\n",
       "  ' Syukaak banget😍😍sm tekturnya yg lembut dan tampilannya yg glosi cocok buat bibir aku yg kering jadi nyaman dipake sepanjang hari aromanya cherry😘😘 ',\n",
       "  ' Jatuh cinta banget sama liptin nya bnb. Ringan di bibir ga berasa tebel gitu.... Warna nya juga suka bangettt bangettt bikin cerah banget ke bibir. Sukaaaaaaaaa ',\n",
       "  ' ini liptint baru yang jadi favorite aku dri bulan september, nice... texturenya pas banget buat di apply, smooth milky gt, dan gak bikin bibir pecah2, packaging juga ok banget, pokoknya nyaman banget buat di pake ama dibawa sehari-hari :) seneng deh udah muncul di sociolla, bisa sharing review product favku... TOP fav warna aku 04, 01 ya haha ',\n",
       "  ' pas di pake light banget udah gitu pigmented juga after apply nya langsung glossy jadi gausah pake lip gloss lagi aja udah bagus banget, wanginya mirip yupi 😣❤️❤️ ']]"
      ]
     },
     "execution_count": 85,
     "metadata": {},
     "output_type": "execute_result"
    }
   ],
   "source": [
    "filteredlistpreveiew"
   ]
  },
  {
   "cell_type": "code",
   "execution_count": 86,
   "metadata": {},
   "outputs": [],
   "source": [
    "for i in range(len(filteredlistprating)):\n",
    "    filteredlistprating[i]=filteredlistprating[i][len(filteredlistprating[i])-len(filteredlistpreveiew[i]):]"
   ]
  },
  {
   "cell_type": "code",
   "execution_count": 89,
   "metadata": {},
   "outputs": [
    {
     "data": {
      "text/plain": [
       "[['4.0', '5.0', '5.0', '3.0', '4.4', '4.8'],\n",
       " ['3.6', '5.0', '5.0', '5.0', '5.0', '5.0'],\n",
       " ['3.6', '5.0', '5.0', '5.0', '5.0', '5.0']]"
      ]
     },
     "execution_count": 89,
     "metadata": {},
     "output_type": "execute_result"
    }
   ],
   "source": [
    "filteredlistprating"
   ]
  },
  {
   "cell_type": "code",
   "execution_count": 106,
   "metadata": {},
   "outputs": [],
   "source": [
    "namauser,ratings,reviews,waktu=[],[],[],[]\n",
    "for i in range(banyakpage):\n",
    "    for j in range(6):\n",
    "        namauser.append(nama[i][j])\n",
    "        ratings.append(filteredlistprating[i][j])\n",
    "        reviews.append(filteredlistpreveiew[i][j])\n",
    "        waktu.append(filteredlistpwaktu[i][j])\n",
    "rows = zip(namauser, reviews, ratings, waktu)\n",
    "\n",
    "csv_file_path = 'data.csv'\n",
    "\n",
    "with open(csv_file_path, 'w', newline='', encoding='utf-8') as csvfile: \n",
    "    writer = csv.writer(csvfile)\n",
    "    writer.writerow(['Nama', 'Review', 'Rating', 'Waktu'])  \n",
    "    writer.writerows(rows)"
   ]
  }
 ],
 "metadata": {
  "kernelspec": {
   "display_name": "Python 3",
   "language": "python",
   "name": "python3"
  },
  "language_info": {
   "codemirror_mode": {
    "name": "ipython",
    "version": 3
   },
   "file_extension": ".py",
   "mimetype": "text/x-python",
   "name": "python",
   "nbconvert_exporter": "python",
   "pygments_lexer": "ipython3",
   "version": "3.11.4"
  }
 },
 "nbformat": 4,
 "nbformat_minor": 2
}
